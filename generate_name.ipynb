{
 "cells": [
  {
   "cell_type": "code",
   "execution_count": 4,
   "metadata": {},
   "outputs": [
    {
     "name": "stdout",
     "output_type": "stream",
     "text": [
      "Generated dummy data saved to test.xlsx\n"
     ]
    }
   ],
   "source": [
    "import pandas as pd\n",
    "from faker import Faker\n",
    "import random\n",
    "\n",
    "# Initialize Faker\n",
    "fake = Faker('id_ID')\n",
    "\n",
    "# Function to generate dummy data\n",
    "def generate_dummy_data(num_samples):\n",
    "    data = []\n",
    "    for _ in range(num_samples):\n",
    "        nama = fake.name()\n",
    "        nim = fake.random_int(min=190170000, max=190179999)\n",
    "        jurusan = 'Teknik Informatika'\n",
    "        status_kemahasiswaan = random.choice(['Semester Akhir', 'Mahasiswa Aktif (Sudah di semester 3 Keatas)', 'Alumni'])\n",
    "        pernah_ikut_mbmk = random.choice(['Sudah Pernah', 'Belum Pernah Sama Sekali'])\n",
    "        pernah_mbkm_apapun = random.choice(['Pernah', 'Belum Pernah Sama Sekali'])\n",
    "        performa_ipk = random.choice(['Sangat Bagus (3.5 Hingga 4.0)', 'Bagus (3.0 Hingga 3.5)', 'Cukup (2.5 Hingga 3.0)', 'Kurang (2.0 Hingga 2.5)'])\n",
    "        ikut_organisasi = random.choice(['Pernah', 'Tidak Pernah'])\n",
    "        jumlah_organisasi = random.randint(0, 5)\n",
    "        scan_ktp = random.choice(['Ada', 'Tidak Ada'])\n",
    "        upload_sertifikat = random.choice(['Ada', 'Tidak Ada'])\n",
    "        upload_cv = random.choice(['Ada', 'Tidak Ada'])\n",
    "        upload_surat_rekomendasi = random.choice(['Ada', 'Tidak Ada'])\n",
    "\n",
    "        data.append([\n",
    "            nama, nim, jurusan, status_kemahasiswaan, pernah_ikut_mbmk, \n",
    "            pernah_mbkm_apapun, performa_ipk, ikut_organisasi, jumlah_organisasi, \n",
    "            scan_ktp, upload_sertifikat, upload_cv, upload_surat_rekomendasi\n",
    "        ])\n",
    "    \n",
    "    columns = [\n",
    "        'nama', 'nim', 'jurusan', 'status_kemahasiswaan', 'pernah_ikut_mbmk', \n",
    "        'pernah_mbkm_apapun', 'performa_ipk', 'ikut_organisasi', 'jumlah_organisasi', \n",
    "        'scan_ktp', 'upload_sertifikat', 'upload_cv', 'upload_surat_rekomendasi'\n",
    "    ]\n",
    "    \n",
    "    return pd.DataFrame(data, columns=columns)\n",
    "\n",
    "# Generate dummy data\n",
    "num_samples = 100  # Change this value to generate more or fewer samples\n",
    "dummy_data = generate_dummy_data(num_samples)\n",
    "\n",
    "# Save to Excel\n",
    "dummy_data_path = 'test.xlsx'\n",
    "dummy_data.to_excel(dummy_data_path, index=False)\n",
    "\n",
    "print(f\"Generated dummy data saved to {dummy_data_path}\")\n"
   ]
  }
 ],
 "metadata": {
  "kernelspec": {
   "display_name": "base",
   "language": "python",
   "name": "python3"
  },
  "language_info": {
   "codemirror_mode": {
    "name": "ipython",
    "version": 3
   },
   "file_extension": ".py",
   "mimetype": "text/x-python",
   "name": "python",
   "nbconvert_exporter": "python",
   "pygments_lexer": "ipython3",
   "version": "3.11.7"
  }
 },
 "nbformat": 4,
 "nbformat_minor": 2
}
